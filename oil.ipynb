{
 "cells": [
  {
   "cell_type": "code",
   "execution_count": 1,
   "metadata": {},
   "outputs": [],
   "source": [
    "import pandas as pd"
   ]
  },
  {
   "cell_type": "code",
   "execution_count": 2,
   "metadata": {
    "pycharm": {
     "name": "#%%\n"
    }
   },
   "outputs": [
    {
     "data": {
      "text/plain": [
       "['СЕНТЯБРЬ',\n",
       " 'ОКТЯБРЬ',\n",
       " 'НОЯБРЬ',\n",
       " 'ДЕКАБРЬ',\n",
       " 'ЯНВАРЬ',\n",
       " 'ФЕВРАЛЬ',\n",
       " 'МАРТ',\n",
       " 'Апрель',\n",
       " 'МАЙ',\n",
       " 'Градуировки (не менять!)',\n",
       " 'Расчет коэф.(не менять)']"
      ]
     },
     "execution_count": 2,
     "metadata": {},
     "output_type": "execute_result"
    }
   ],
   "source": [
    "excel_file = pd.ExcelFile('oil.xlsx')\n",
    "\n",
    "# все листы в файле\n",
    "excel_file.sheet_names"
   ]
  },
  {
   "cell_type": "code",
   "execution_count": 3,
   "metadata": {
    "pycharm": {
     "name": "#%%\n"
    }
   },
   "outputs": [],
   "source": [
    "# нужные нам листы\n",
    "sheet_names_list = [\n",
    "    'ОКТЯБРЬ',\n",
    "    'НОЯБРЬ',\n",
    "    'ДЕКАБРЬ',\n",
    "    'ЯНВАРЬ',\n",
    "    'ФЕВРАЛЬ',\n",
    "    'МАРТ',\n",
    "    'Апрель',\n",
    "]"
   ]
  },
  {
   "cell_type": "code",
   "execution_count": 4,
   "metadata": {
    "pycharm": {
     "name": "#%%\n"
    }
   },
   "outputs": [
    {
     "data": {
      "text/html": [
       "<div>\n",
       "<style scoped>\n",
       "    .dataframe tbody tr th:only-of-type {\n",
       "        vertical-align: middle;\n",
       "    }\n",
       "\n",
       "    .dataframe tbody tr th {\n",
       "        vertical-align: top;\n",
       "    }\n",
       "\n",
       "    .dataframe thead th {\n",
       "        text-align: right;\n",
       "    }\n",
       "</style>\n",
       "<table border=\"1\" class=\"dataframe\">\n",
       "  <thead>\n",
       "    <tr style=\"text-align: right;\">\n",
       "      <th></th>\n",
       "      <th>№ п/п</th>\n",
       "      <th>Дата</th>\n",
       "      <th>Время</th>\n",
       "      <th>№ РГС</th>\n",
       "      <th>Температура РГС</th>\n",
       "      <th>уровень мм</th>\n",
       "      <th>подтоварка</th>\n",
       "      <th>объем</th>\n",
       "      <th>плотность нефти, зависящая от коэфф-нта объемного расшир-я</th>\n",
       "      <th>плотность при заправке текущей температуре</th>\n",
       "      <th>...</th>\n",
       "      <th>содержание воды</th>\n",
       "      <th>мех.примеси</th>\n",
       "      <th>хлор,сол</th>\n",
       "      <th>нетто принято</th>\n",
       "      <th>нетто сдано</th>\n",
       "      <th>расход за сутки</th>\n",
       "      <th>нарастающее    за месяц</th>\n",
       "      <th>Расход нефти для собственных нужд</th>\n",
       "      <th>Unnamed: 21</th>\n",
       "      <th>Unnamed: 22</th>\n",
       "    </tr>\n",
       "  </thead>\n",
       "  <tbody>\n",
       "    <tr>\n",
       "      <th>0</th>\n",
       "      <td>1</td>\n",
       "      <td>2021-09-30</td>\n",
       "      <td>00:00:00</td>\n",
       "      <td>1.0</td>\n",
       "      <td>20.0</td>\n",
       "      <td>1695.0</td>\n",
       "      <td>0.0</td>\n",
       "      <td>16.208</td>\n",
       "      <td>859.600000</td>\n",
       "      <td>859.6</td>\n",
       "      <td>...</td>\n",
       "      <td>0.12</td>\n",
       "      <td>0.0032</td>\n",
       "      <td>0.0014</td>\n",
       "      <td>0.0</td>\n",
       "      <td>0.046309</td>\n",
       "      <td>NaN</td>\n",
       "      <td>NaN</td>\n",
       "      <td>14.0</td>\n",
       "      <td>NaN</td>\n",
       "      <td>NaN</td>\n",
       "    </tr>\n",
       "    <tr>\n",
       "      <th>1</th>\n",
       "      <td>2</td>\n",
       "      <td>2021-09-30</td>\n",
       "      <td>00:00:00</td>\n",
       "      <td>2.0</td>\n",
       "      <td>31.0</td>\n",
       "      <td>0.0</td>\n",
       "      <td>0.0</td>\n",
       "      <td>0.000</td>\n",
       "      <td>848.974156</td>\n",
       "      <td>856.8</td>\n",
       "      <td>...</td>\n",
       "      <td>0.14</td>\n",
       "      <td>0.0045</td>\n",
       "      <td>0.0014</td>\n",
       "      <td>0.0</td>\n",
       "      <td>0.011982</td>\n",
       "      <td>NaN</td>\n",
       "      <td>NaN</td>\n",
       "      <td>NaN</td>\n",
       "      <td>NaN</td>\n",
       "      <td>NaN</td>\n",
       "    </tr>\n",
       "  </tbody>\n",
       "</table>\n",
       "<p>2 rows × 23 columns</p>\n",
       "</div>"
      ],
      "text/plain": [
       "   № п/п       Дата     Время  № РГС  Температура РГС   уровень мм  \\\n",
       "0      1 2021-09-30  00:00:00    1.0              20.0      1695.0   \n",
       "1      2 2021-09-30  00:00:00    2.0              31.0         0.0   \n",
       "\n",
       "   подтоварка   объем  \\\n",
       "0         0.0  16.208   \n",
       "1         0.0   0.000   \n",
       "\n",
       "   плотность нефти, зависящая от коэфф-нта объемного расшир-я  \\\n",
       "0                                         859.600000            \n",
       "1                                         848.974156            \n",
       "\n",
       "   плотность при заправке текущей температуре  ...  содержание воды  \\\n",
       "0                                       859.6  ...             0.12   \n",
       "1                                       856.8  ...             0.14   \n",
       "\n",
       "   мех.примеси  хлор,сол  нетто принято  нетто сдано  расход за сутки  \\\n",
       "0       0.0032    0.0014            0.0     0.046309              NaN   \n",
       "1       0.0045    0.0014            0.0     0.011982              NaN   \n",
       "\n",
       "   нарастающее    за месяц  Расход нефти для собственных нужд  Unnamed: 21  \\\n",
       "0                      NaN                               14.0          NaN   \n",
       "1                      NaN                                NaN          NaN   \n",
       "\n",
       "   Unnamed: 22  \n",
       "0          NaN  \n",
       "1          NaN  \n",
       "\n",
       "[2 rows x 23 columns]"
      ]
     },
     "execution_count": 4,
     "metadata": {},
     "output_type": "execute_result"
    }
   ],
   "source": [
    "# пример одного листа\n",
    "df = excel_file.parse(sheet_names_list[0])\n",
    "df.head(2)"
   ]
  },
  {
   "cell_type": "code",
   "execution_count": 5,
   "metadata": {
    "pycharm": {
     "name": "#%%\n"
    }
   },
   "outputs": [
    {
     "data": {
      "text/plain": [
       "[(0, '№ п/п'),\n",
       " (1, 'Дата'),\n",
       " (2, 'Время'),\n",
       " (3, '№ РГС'),\n",
       " (4, 'Температура РГС '),\n",
       " (5, 'уровень мм'),\n",
       " (6, 'подтоварка'),\n",
       " (7, 'объем'),\n",
       " (8, 'плотность нефти, зависящая от коэфф-нта объемного расшир-я'),\n",
       " (9, 'плотность при заправке текущей температуре'),\n",
       " (10, 'масса брутто в  текущий момент'),\n",
       " (11, 'принятой'),\n",
       " (12, 'сданной'),\n",
       " (13, 'содержание воды'),\n",
       " (14, 'мех.примеси'),\n",
       " (15, 'хлор,сол'),\n",
       " (16, 'нетто принято'),\n",
       " (17, 'нетто сдано'),\n",
       " (18, 'расход за сутки'),\n",
       " (19, 'нарастающее    за месяц'),\n",
       " (20, 'Расход нефти для собственных нужд'),\n",
       " (21, 'Unnamed: 21'),\n",
       " (22, 'Unnamed: 22')]"
      ]
     },
     "execution_count": 5,
     "metadata": {},
     "output_type": "execute_result"
    }
   ],
   "source": [
    "# имена всех столбцов\n",
    "all_columns_list = list(enumerate(df.columns))\n",
    "all_columns_list"
   ]
  },
  {
   "cell_type": "code",
   "execution_count": 6,
   "metadata": {
    "pycharm": {
     "name": "#%%\n"
    }
   },
   "outputs": [
    {
     "data": {
      "text/plain": [
       "['Дата', 'Время', '№ РГС', 'Температура РГС ', 'нетто принято', 'нетто сдано']"
      ]
     },
     "execution_count": 6,
     "metadata": {},
     "output_type": "execute_result"
    }
   ],
   "source": [
    "# нужные имена столбцов\n",
    "column_names_list = [\n",
    "    all_columns_list[1][1],\n",
    "    all_columns_list[2][1],\n",
    "    all_columns_list[3][1],\n",
    "    all_columns_list[4][1],\n",
    "    all_columns_list[16][1],\n",
    "    all_columns_list[17][1],\n",
    "]\n",
    "column_names_list"
   ]
  },
  {
   "cell_type": "code",
   "execution_count": 7,
   "metadata": {
    "pycharm": {
     "is_executing": true,
     "name": "#%%\n"
    }
   },
   "outputs": [],
   "source": [
    "# соберем таблицу за все время\n",
    "months_df_list = []\n",
    "for sheet_name in sheet_names_list:\n",
    "    month_df = excel_file.parse(sheet_name)\n",
    "    month_filter_df = month_df.filter(column_names_list)\n",
    "    months_df_list.append(month_filter_df)\n",
    "\n",
    "all_months_df = pd.concat(months_df_list)"
   ]
  },
  {
   "cell_type": "code",
   "execution_count": 8,
   "metadata": {},
   "outputs": [],
   "source": [
    "# отсортируем Время\n",
    "all_months_df['Время'] = all_months_df['Время'].apply(lambda x: '12:00' if '12' in str(x) else '00:00')\n",
    "# удалим пустые строки\n",
    "all_months_df.dropna(inplace=True)"
   ]
  },
  {
   "cell_type": "code",
   "execution_count": 10,
   "metadata": {
    "pycharm": {
     "name": "#%%\n"
    }
   },
   "outputs": [
    {
     "data": {
      "text/html": [
       "<div>\n",
       "<style scoped>\n",
       "    .dataframe tbody tr th:only-of-type {\n",
       "        vertical-align: middle;\n",
       "    }\n",
       "\n",
       "    .dataframe tbody tr th {\n",
       "        vertical-align: top;\n",
       "    }\n",
       "\n",
       "    .dataframe thead th {\n",
       "        text-align: right;\n",
       "    }\n",
       "</style>\n",
       "<table border=\"1\" class=\"dataframe\">\n",
       "  <thead>\n",
       "    <tr style=\"text-align: right;\">\n",
       "      <th></th>\n",
       "      <th>Температура РГС</th>\n",
       "      <th>нетто принято</th>\n",
       "      <th>нетто сдано</th>\n",
       "    </tr>\n",
       "    <tr>\n",
       "      <th>Дата</th>\n",
       "      <th></th>\n",
       "      <th></th>\n",
       "      <th></th>\n",
       "    </tr>\n",
       "  </thead>\n",
       "  <tbody>\n",
       "    <tr>\n",
       "      <th>2017-01-30</th>\n",
       "      <td>23.50</td>\n",
       "      <td>0.0</td>\n",
       "      <td>0.181142</td>\n",
       "    </tr>\n",
       "    <tr>\n",
       "      <th>2017-01-31</th>\n",
       "      <td>26.50</td>\n",
       "      <td>0.0</td>\n",
       "      <td>0.251162</td>\n",
       "    </tr>\n",
       "    <tr>\n",
       "      <th>2021-09-30</th>\n",
       "      <td>25.50</td>\n",
       "      <td>0.0</td>\n",
       "      <td>0.029146</td>\n",
       "    </tr>\n",
       "    <tr>\n",
       "      <th>2021-10-01</th>\n",
       "      <td>27.50</td>\n",
       "      <td>0.0</td>\n",
       "      <td>0.150569</td>\n",
       "    </tr>\n",
       "    <tr>\n",
       "      <th>2021-10-02</th>\n",
       "      <td>27.50</td>\n",
       "      <td>0.0</td>\n",
       "      <td>0.115321</td>\n",
       "    </tr>\n",
       "    <tr>\n",
       "      <th>...</th>\n",
       "      <td>...</td>\n",
       "      <td>...</td>\n",
       "      <td>...</td>\n",
       "    </tr>\n",
       "    <tr>\n",
       "      <th>2023-01-27</th>\n",
       "      <td>20.25</td>\n",
       "      <td>0.0</td>\n",
       "      <td>0.170828</td>\n",
       "    </tr>\n",
       "    <tr>\n",
       "      <th>2023-01-28</th>\n",
       "      <td>20.00</td>\n",
       "      <td>0.0</td>\n",
       "      <td>0.168250</td>\n",
       "    </tr>\n",
       "    <tr>\n",
       "      <th>2023-01-29</th>\n",
       "      <td>19.50</td>\n",
       "      <td>0.0</td>\n",
       "      <td>0.163677</td>\n",
       "    </tr>\n",
       "    <tr>\n",
       "      <th>2023-01-30</th>\n",
       "      <td>19.50</td>\n",
       "      <td>0.0</td>\n",
       "      <td>0.182583</td>\n",
       "    </tr>\n",
       "    <tr>\n",
       "      <th>2023-01-31</th>\n",
       "      <td>18.50</td>\n",
       "      <td>0.0</td>\n",
       "      <td>0.194702</td>\n",
       "    </tr>\n",
       "  </tbody>\n",
       "</table>\n",
       "<p>217 rows × 3 columns</p>\n",
       "</div>"
      ],
      "text/plain": [
       "            Температура РГС   нетто принято  нетто сдано\n",
       "Дата                                                    \n",
       "2017-01-30             23.50            0.0     0.181142\n",
       "2017-01-31             26.50            0.0     0.251162\n",
       "2021-09-30             25.50            0.0     0.029146\n",
       "2021-10-01             27.50            0.0     0.150569\n",
       "2021-10-02             27.50            0.0     0.115321\n",
       "...                      ...            ...          ...\n",
       "2023-01-27             20.25            0.0     0.170828\n",
       "2023-01-28             20.00            0.0     0.168250\n",
       "2023-01-29             19.50            0.0     0.163677\n",
       "2023-01-30             19.50            0.0     0.182583\n",
       "2023-01-31             18.50            0.0     0.194702\n",
       "\n",
       "[217 rows x 3 columns]"
      ]
     },
     "execution_count": 10,
     "metadata": {},
     "output_type": "execute_result"
    }
   ],
   "source": [
    "# статистика средних за день\n",
    "all_months_df.groupby(['Дата'])[['Температура РГС ', 'нетто принято', 'нетто сдано']].mean()"
   ]
  },
  {
   "cell_type": "code",
   "execution_count": 11,
   "metadata": {},
   "outputs": [
    {
     "data": {
      "text/html": [
       "<div>\n",
       "<style scoped>\n",
       "    .dataframe tbody tr th:only-of-type {\n",
       "        vertical-align: middle;\n",
       "    }\n",
       "\n",
       "    .dataframe tbody tr th {\n",
       "        vertical-align: top;\n",
       "    }\n",
       "\n",
       "    .dataframe thead th {\n",
       "        text-align: right;\n",
       "    }\n",
       "</style>\n",
       "<table border=\"1\" class=\"dataframe\">\n",
       "  <thead>\n",
       "    <tr style=\"text-align: right;\">\n",
       "      <th></th>\n",
       "      <th>нетто принято</th>\n",
       "      <th>нетто сдано</th>\n",
       "    </tr>\n",
       "    <tr>\n",
       "      <th>№ РГС</th>\n",
       "      <th></th>\n",
       "      <th></th>\n",
       "    </tr>\n",
       "  </thead>\n",
       "  <tbody>\n",
       "    <tr>\n",
       "      <th>1.0</th>\n",
       "      <td>47.839331</td>\n",
       "      <td>61.252963</td>\n",
       "    </tr>\n",
       "    <tr>\n",
       "      <th>2.0</th>\n",
       "      <td>57.700665</td>\n",
       "      <td>52.574812</td>\n",
       "    </tr>\n",
       "  </tbody>\n",
       "</table>\n",
       "</div>"
      ],
      "text/plain": [
       "       нетто принято  нетто сдано\n",
       "№ РГС                            \n",
       "1.0        47.839331    61.252963\n",
       "2.0        57.700665    52.574812"
      ]
     },
     "execution_count": 11,
     "metadata": {},
     "output_type": "execute_result"
    }
   ],
   "source": [
    "# статистика суммы для каждого РГС\n",
    "all_months_df.groupby(['№ РГС'])[['нетто принято', 'нетто сдано']].sum()"
   ]
  },
  {
   "cell_type": "code",
   "execution_count": 12,
   "metadata": {},
   "outputs": [
    {
     "name": "stderr",
     "output_type": "stream",
     "text": [
      "/var/folders/_1/44gtc23j745bjc805bwt__sw0000gn/T/ipykernel_1520/2630991163.py:2: FutureWarning: The default value of numeric_only in DataFrame.corr is deprecated. In a future version, it will default to False. Select only valid columns or specify the value of numeric_only to silence this warning.\n",
      "  all_months_df.corr()\n"
     ]
    },
    {
     "data": {
      "text/html": [
       "<div>\n",
       "<style scoped>\n",
       "    .dataframe tbody tr th:only-of-type {\n",
       "        vertical-align: middle;\n",
       "    }\n",
       "\n",
       "    .dataframe tbody tr th {\n",
       "        vertical-align: top;\n",
       "    }\n",
       "\n",
       "    .dataframe thead th {\n",
       "        text-align: right;\n",
       "    }\n",
       "</style>\n",
       "<table border=\"1\" class=\"dataframe\">\n",
       "  <thead>\n",
       "    <tr style=\"text-align: right;\">\n",
       "      <th></th>\n",
       "      <th>№ РГС</th>\n",
       "      <th>Температура РГС</th>\n",
       "      <th>нетто принято</th>\n",
       "      <th>нетто сдано</th>\n",
       "    </tr>\n",
       "  </thead>\n",
       "  <tbody>\n",
       "    <tr>\n",
       "      <th>№ РГС</th>\n",
       "      <td>1.000000</td>\n",
       "      <td>-0.100150</td>\n",
       "      <td>0.009917</td>\n",
       "      <td>-0.064825</td>\n",
       "    </tr>\n",
       "    <tr>\n",
       "      <th>Температура РГС</th>\n",
       "      <td>-0.100150</td>\n",
       "      <td>1.000000</td>\n",
       "      <td>-0.051230</td>\n",
       "      <td>0.452701</td>\n",
       "    </tr>\n",
       "    <tr>\n",
       "      <th>нетто принято</th>\n",
       "      <td>0.009917</td>\n",
       "      <td>-0.051230</td>\n",
       "      <td>1.000000</td>\n",
       "      <td>-0.090243</td>\n",
       "    </tr>\n",
       "    <tr>\n",
       "      <th>нетто сдано</th>\n",
       "      <td>-0.064825</td>\n",
       "      <td>0.452701</td>\n",
       "      <td>-0.090243</td>\n",
       "      <td>1.000000</td>\n",
       "    </tr>\n",
       "  </tbody>\n",
       "</table>\n",
       "</div>"
      ],
      "text/plain": [
       "                     № РГС  Температура РГС   нетто принято  нетто сдано\n",
       "№ РГС             1.000000         -0.100150       0.009917    -0.064825\n",
       "Температура РГС  -0.100150          1.000000      -0.051230     0.452701\n",
       "нетто принято     0.009917         -0.051230       1.000000    -0.090243\n",
       "нетто сдано      -0.064825          0.452701      -0.090243     1.000000"
      ]
     },
     "execution_count": 12,
     "metadata": {},
     "output_type": "execute_result"
    }
   ],
   "source": [
    "# корреляции\n",
    "all_months_df.corr()"
   ]
  }
 ],
 "metadata": {
  "kernelspec": {
   "display_name": "Python 3 (ipykernel)",
   "language": "python",
   "name": "python3"
  },
  "language_info": {
   "codemirror_mode": {
    "name": "ipython",
    "version": 3
   },
   "file_extension": ".py",
   "mimetype": "text/x-python",
   "name": "python",
   "nbconvert_exporter": "python",
   "pygments_lexer": "ipython3",
   "version": "3.9.4"
  }
 },
 "nbformat": 4,
 "nbformat_minor": 1
}